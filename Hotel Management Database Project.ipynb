{
 "cells": [
  {
   "cell_type": "code",
   "execution_count": 7,
   "id": "8b0468be",
   "metadata": {},
   "outputs": [],
   "source": [
    "import sqlite3\n",
    "\n",
    "# Connect to the Database - the DATABASE must already exisit\n",
    "# Example of path: 'S:\\\\SQLite\\\\Week 3\\\\XXX.db'\n",
    "conn=sqlite3.connect(\"C:\\\\Users\\\\priya\\\\OneDrive - University of Exeter\\\\Documents\\\\Exeter Documents\\\\Term 2\\\\BEMM459-Database technologies\\\\Project\\Hotel Management.db\")\n",
    "cur=conn.cursor()"
   ]
  },
  {
   "cell_type": "code",
   "execution_count": 10,
   "id": "03964929",
   "metadata": {},
   "outputs": [],
   "source": [
    "qry=\"select * from Booking_Details;\"\n",
    "cur.execute(qry)\n",
    "\n",
    "# Display rows\n",
    "#rows=cur.fetchall()\n",
    "\n"
   ]
  },
  {
   "cell_type": "code",
   "execution_count": 11,
   "id": "5b95b946",
   "metadata": {},
   "outputs": [],
   "source": [
    "def tables_in_sqlite_db(conn):\n",
    "    cursor = conn.execute(\"SELECT name FROM sqlite_master WHERE type='table';\")\n",
    "    tables = [\n",
    "        v[0] for v in cursor.fetchall()\n",
    "        if v[0] != \"sqlite_sequence\"\n",
    "    ]\n",
    "    cursor.close()\n",
    "    return tables"
   ]
  },
  {
   "cell_type": "code",
   "execution_count": 12,
   "id": "ca4985ec",
   "metadata": {},
   "outputs": [
    {
     "name": "stdout",
     "output_type": "stream",
     "text": [
      "['Booking_Details', 'Customer_Information', 'Feedback', 'Payment_Information']\n"
     ]
    }
   ],
   "source": [
    "tables = tables_in_sqlite_db(conn)\n",
    "\n",
    "#print tables in the current database\n",
    "print(tables)"
   ]
  },
  {
   "cell_type": "code",
   "execution_count": null,
   "id": "c69f96cf",
   "metadata": {},
   "outputs": [],
   "source": []
  }
 ],
 "metadata": {
  "kernelspec": {
   "display_name": "Python 3 (ipykernel)",
   "language": "python",
   "name": "python3"
  },
  "language_info": {
   "codemirror_mode": {
    "name": "ipython",
    "version": 3
   },
   "file_extension": ".py",
   "mimetype": "text/x-python",
   "name": "python",
   "nbconvert_exporter": "python",
   "pygments_lexer": "ipython3",
   "version": "3.9.7"
  }
 },
 "nbformat": 4,
 "nbformat_minor": 5
}
